{
 "cells": [
  {
   "cell_type": "markdown",
   "metadata": {},
   "source": [
    "# Project WOW: Google Trends \n",
    "\n",
    "by Gregorio Cioppa and Betty Staccoli\n",
    "\n",
    "\n",
    "\n",
    "Oct 2019. CBS MBA, Introduction to Programming using Python, Fall 2019\n",
    "\n",
    "\n",
    "\n",
    "The purpose of this project is to provide a program able to access Google Trends data in a easier and more standardizable way. \n",
    "In order to do this, it has been coded a tool providing details of searches around a specific word provided by the user. These details include evolution of the searches over time, list of countries where the word has been googled the most, list of related topics and queries. This will represent the \"base\" MVP.\n",
    "\n",
    "It has been possible to expand and add more flexibility to the \"base\" version, achieving an \"improved\" MVP. These improvements include additional functionalities that allow the user to set the timespan to consider, the country of interest and restrict the research to a specific category (e.g. “Art & Entertainment”)."
   ]
  },
  {
   "cell_type": "markdown",
   "metadata": {},
   "source": [
    "# Setups\n",
    "\n",
    "\n",
    "Before starting, some specific packages has been installed, specifically:\n",
    "- pip install pytrends : unofficial API for Google Trends containing the functions necessary to perform the seraches \n",
    "- pip install pandas : API necessary to manage DataFrames\n",
    "- pip install matplotlib : API necessary to plot charts\n",
    "\n",
    "\n",
    "Once this initial step has been perfomed, all the libraries necessary to run the code were imported.\n",
    "\n",
    "Libraries to use Google Trends APIs (pytrends) include:  "
   ]
  },
  {
   "cell_type": "code",
   "execution_count": 1,
   "metadata": {},
   "outputs": [],
   "source": [
    "from pytrends.request import TrendReq\n",
    "from pandas.io.json import json_normalize"
   ]
  },
  {
   "cell_type": "markdown",
   "metadata": {},
   "source": [
    "Library to export dataframes as csv files includes:"
   ]
  },
  {
   "cell_type": "code",
   "execution_count": 2,
   "metadata": {},
   "outputs": [],
   "source": [
    "import pandas as pd"
   ]
  },
  {
   "cell_type": "markdown",
   "metadata": {},
   "source": [
    "Libraries for graphs and dates formatting include:"
   ]
  },
  {
   "cell_type": "code",
   "execution_count": 3,
   "metadata": {},
   "outputs": [],
   "source": [
    "import matplotlib.pyplot as plt\n",
    "import datetime\n",
    "from datetime import date\n",
    "import matplotlib.dates as mdates"
   ]
  },
  {
   "cell_type": "markdown",
   "metadata": {},
   "source": [
    "# Inputs \n",
    "\n",
    "In this chapter all the inputs required by the user are included.\n",
    "It has to be noted that also the inputs for additional functionalities, such as a variable timeframe of analysis, are included here."
   ]
  },
  {
   "cell_type": "markdown",
   "metadata": {},
   "source": [
    "## Step 1: Key words selection\n",
    "\n",
    "The first step to be performed is to acquire from the user the keywords to search (up to 3)."
   ]
  },
  {
   "cell_type": "code",
   "execution_count": 4,
   "metadata": {
    "scrolled": true
   },
   "outputs": [
    {
     "name": "stdout",
     "output_type": "stream",
     "text": [
      "Please write the first keyword: Cartier\n"
     ]
    }
   ],
   "source": [
    "kw_1 = input(\"Please write the first keyword: \")"
   ]
  },
  {
   "cell_type": "code",
   "execution_count": 5,
   "metadata": {
    "scrolled": true
   },
   "outputs": [
    {
     "name": "stdout",
     "output_type": "stream",
     "text": [
      "Cartier\n"
     ]
    }
   ],
   "source": [
    "print(kw_1)"
   ]
  },
  {
   "cell_type": "code",
   "execution_count": 6,
   "metadata": {},
   "outputs": [
    {
     "name": "stdout",
     "output_type": "stream",
     "text": [
      "Do you want to add another keyword? [Yes/No]: yes\n"
     ]
    }
   ],
   "source": [
    "q1 = input(\"Do you want to add another keyword? [Yes/No]: \")"
   ]
  },
  {
   "cell_type": "code",
   "execution_count": 7,
   "metadata": {},
   "outputs": [
    {
     "name": "stdout",
     "output_type": "stream",
     "text": [
      "yes\n"
     ]
    }
   ],
   "source": [
    "print(q1)"
   ]
  },
  {
   "cell_type": "code",
   "execution_count": 8,
   "metadata": {},
   "outputs": [
    {
     "name": "stdout",
     "output_type": "stream",
     "text": [
      "Please write the second keyword: Dior\n"
     ]
    }
   ],
   "source": [
    "if q1.upper() == \"YES\":\n",
    "    kw_2 = input(\"Please write the second keyword: \")\n",
    "else:\n",
    "    kw_2 = \"\""
   ]
  },
  {
   "cell_type": "code",
   "execution_count": 9,
   "metadata": {
    "scrolled": true
   },
   "outputs": [
    {
     "name": "stdout",
     "output_type": "stream",
     "text": [
      "Do you want to add another keyword? [Yes/No]: yes\n"
     ]
    }
   ],
   "source": [
    "if q1.upper() == \"YES\":\n",
    "    q2 = input(\"Do you want to add another keyword? [Yes/No]: \")"
   ]
  },
  {
   "cell_type": "code",
   "execution_count": 10,
   "metadata": {},
   "outputs": [
    {
     "name": "stdout",
     "output_type": "stream",
     "text": [
      "Please write the third keyword: Chanel\n"
     ]
    }
   ],
   "source": [
    "if q2.upper() == \"YES\":\n",
    "    kw_3 = input(\"Please write the third keyword: \")\n",
    "else:\n",
    "    kw_3 = \"\""
   ]
  },
  {
   "cell_type": "code",
   "execution_count": 11,
   "metadata": {},
   "outputs": [],
   "source": [
    "user_kw_list = [kw_1]\n",
    "if q1.upper() == \"YES\":\n",
    "    user_kw_list.append(kw_2)\n",
    "if q2.upper() == \"YES\":\n",
    "    user_kw_list.append(kw_3)"
   ]
  },
  {
   "cell_type": "markdown",
   "metadata": {},
   "source": [
    "This is the final list of keywords that will be used to perform analyses on Google Trends."
   ]
  },
  {
   "cell_type": "code",
   "execution_count": 12,
   "metadata": {},
   "outputs": [
    {
     "name": "stdout",
     "output_type": "stream",
     "text": [
      "['Cartier', 'Dior', 'Chanel']\n"
     ]
    }
   ],
   "source": [
    "print(user_kw_list)"
   ]
  },
  {
   "cell_type": "markdown",
   "metadata": {},
   "source": [
    "## Step 2: Refine the research (Improved MVP)"
   ]
  },
  {
   "cell_type": "markdown",
   "metadata": {},
   "source": [
    "The unofficial API for Google Trends relies on some default setting, that are used if not specified by the user. Specifically, these settings include:\n",
    "- Category of focus: all\n",
    "- Timeframe of analysis: last 5 years\n",
    "- Country of focus: worldwide\n",
    "\n",
    "All the three variables have been then initialized to these values."
   ]
  },
  {
   "cell_type": "code",
   "execution_count": 55,
   "metadata": {},
   "outputs": [],
   "source": [
    "user_cat = 0 \n",
    "user_timeframe = 'today 5-y' \n",
    "user_geo = ''"
   ]
  },
  {
   "cell_type": "markdown",
   "metadata": {},
   "source": [
    "### Focus on a specific category"
   ]
  },
  {
   "cell_type": "markdown",
   "metadata": {},
   "source": [
    "As previously mentioned, it is possible to focus the research on a specific category of interest. In order to do this, it has been asked to the user whether she/he wants to limit the analyses first, and then to which category. \n",
    "All the categories are identified by a code and a coding table is provided to the user to proceed with the choice."
   ]
  },
  {
   "cell_type": "code",
   "execution_count": 14,
   "metadata": {},
   "outputs": [
    {
     "name": "stdout",
     "output_type": "stream",
     "text": [
      "Would you like to focus the research on a specific category? (e.g. Art & Entertainment) (Yes/No): yes\n"
     ]
    }
   ],
   "source": [
    "ans = input (f'Would you like to focus the research on a specific category? (e.g. Art & Entertainment) (Yes/No): ')"
   ]
  },
  {
   "cell_type": "code",
   "execution_count": 15,
   "metadata": {},
   "outputs": [
    {
     "name": "stdout",
     "output_type": "stream",
     "text": [
      "Here is the list of possible categories: \n",
      " Arts & Entertainment: 3 \n",
      " Autos & Vehicles: 47 \n",
      " Beauty & Fitness: 44 \n",
      " Books & Literature: 22 \n",
      " Business & Industrial: 12 \n",
      " Computers & Electronics: 5 \n",
      " Finance: 7 \n",
      " Food & Drink: 71 \n",
      " Games: 8 \n",
      " Health: 45 \n",
      " Hobbies & Leisure: 65 \n",
      " Home & Garden: 11 \n",
      " Internet & Telecom: 13 \n",
      " Jobs & Education: 958 \n",
      " Law & Government: 19 \n",
      " News: 16 \n",
      " Online Communities: 299 \n",
      " People & Society: 14 \n",
      " Pets & Animals: 66 \n",
      " Real Estate: 29 \n",
      " Reference: 533 \n",
      " Science: 174 \n",
      " Shopping: 18 \n",
      " Sports: 20 \n",
      " Travel: 67\n",
      "Please indicate the code of the category to focus on: 18\n"
     ]
    }
   ],
   "source": [
    "if ans.upper() == \"YES\":\n",
    "    category_list = 'Here is the list of possible categories: \\n Arts & Entertainment: 3 \\n Autos & Vehicles: 47 \\n Beauty & Fitness: 44 \\n Books & Literature: 22 \\n Business & Industrial: 12 \\n Computers & Electronics: 5 \\n Finance: 7 \\n Food & Drink: 71 \\n Games: 8 \\n Health: 45 \\n Hobbies & Leisure: 65 \\n Home & Garden: 11 \\n Internet & Telecom: 13 \\n Jobs & Education: 958 \\n Law & Government: 19 \\n News: 16 \\n Online Communities: 299 \\n People & Society: 14 \\n Pets & Animals: 66 \\n Real Estate: 29 \\n Reference: 533 \\n Science: 174 \\n Shopping: 18 \\n Sports: 20 \\n Travel: 67'\n",
    "    print (category_list)\n",
    "    user_cat = int(input ('Please indicate the code of the category to focus on: '))\n",
    "    "
   ]
  },
  {
   "cell_type": "markdown",
   "metadata": {},
   "source": [
    "To be sure to gather a correct input, it has been introduced a check on the category code inserted by the user."
   ]
  },
  {
   "cell_type": "code",
   "execution_count": 16,
   "metadata": {},
   "outputs": [
    {
     "name": "stdout",
     "output_type": "stream",
     "text": [
      "Category set\n"
     ]
    }
   ],
   "source": [
    "    acceptable_cat = [3, 47, 44, 22, 12, 5, 7, 71, 8, 45, 65, 11, 13, 958, 19, 16, 299, 14, 66, 29, 533, 174, 18, 20, 67]\n",
    "    if ans.upper() == \"YES\":\n",
    "        if user_cat in acceptable_cat:\n",
    "            print ('Category set')\n",
    "        else :\n",
    "            user_cat = int(input ('Category code not valid, please indicate the right code: '))   \n",
    "            if user_cat in acceptable_cat:\n",
    "                print ('Category set')\n",
    "            else :\n",
    "                user_cat = int(input ('Category code not valid, please indicate the right code: '))\n",
    "                if user_cat in acceptable_cat:\n",
    "                    print ('Category set')\n",
    "                else:\n",
    "                    user_cat = int(input ('Category code not valid, please indicate the right code: '))"
   ]
  },
  {
   "cell_type": "markdown",
   "metadata": {},
   "source": [
    "### Timeframe "
   ]
  },
  {
   "cell_type": "markdown",
   "metadata": {},
   "source": [
    "The second degree of flexibility that this code offers is related to the timeframe to consider.\n",
    "It is given to the user the possibility to customize the time range of interest, from the 5 to 1 most recent years."
   ]
  },
  {
   "cell_type": "code",
   "execution_count": 17,
   "metadata": {},
   "outputs": [
    {
     "name": "stdout",
     "output_type": "stream",
     "text": [
      "Would you like to focus the research on a specific timeframe? (default is last 5 years) (Yes/No): yes\n"
     ]
    }
   ],
   "source": [
    "ans = input ('Would you like to focus the research on a specific timeframe? (default is last 5 years) (Yes/No): ')"
   ]
  },
  {
   "cell_type": "code",
   "execution_count": 18,
   "metadata": {},
   "outputs": [
    {
     "name": "stdout",
     "output_type": "stream",
     "text": [
      "Here is the list of the timeframes available: \n",
      " all: all \n",
      " last 5 years: today 5-y \n",
      " last 4 years: today 4-y \n",
      " last 3 years: today 3-y \n",
      " last 2 years: today 2-y \n",
      " last 1 years: today 1-y\n",
      "Please indicate the timeframe of focus in the format specified in the list (e.g. \"today 3-y\"): today 2-y\n"
     ]
    }
   ],
   "source": [
    "if ans.upper() == \"YES\":\n",
    "    timeframe_list = ('Here is the list of the timeframes available: \\n all: all \\n last 5 years: today 5-y \\n last 4 years: today 4-y \\n last 3 years: today 3-y \\n last 2 years: today 2-y \\n last 1 years: today 1-y')\n",
    "    print (timeframe_list)\n",
    "    user_timeframe = input ('Please indicate the timeframe of focus in the format specified in the list (e.g. \"today 3-y\"): ')"
   ]
  },
  {
   "cell_type": "markdown",
   "metadata": {},
   "source": [
    "As in the previous case, in order to be sure to gather an acceptable input, it has been introduced a check."
   ]
  },
  {
   "cell_type": "code",
   "execution_count": 19,
   "metadata": {},
   "outputs": [
    {
     "name": "stdout",
     "output_type": "stream",
     "text": [
      "Timeframe set\n"
     ]
    }
   ],
   "source": [
    "acceptable_timeframe = ['today 5-y', 'today 4-y', 'today 3-y', 'today 2-y', 'today 1-y']\n",
    "if user_timeframe in acceptable_timeframe:\n",
    "    print ('Timeframe set')\n",
    "else:\n",
    "    user_timeframe = input ('Timeframe not valid, please indicate the right timeframe: ')    \n",
    "    if user_timeframe in acceptable_timeframe:\n",
    "        print ('Timeframe set')\n",
    "    else:\n",
    "        user_timeframe = input ('Timeframe not valid, please indicate the right timeframe: ')\n",
    "        if user_timeframe in acceptable_timeframe:\n",
    "            print ('Timeframe set')\n",
    "        else:\n",
    "            user_timeframe = input ('Timeframe not valid, please indicate the right timeframe: ')"
   ]
  },
  {
   "cell_type": "markdown",
   "metadata": {},
   "source": [
    "Once the input about the timeframe is received, it is coded in a new numerical variable, easier to be used in the following steps of the code (\"numyears\")"
   ]
  },
  {
   "cell_type": "code",
   "execution_count": 20,
   "metadata": {},
   "outputs": [],
   "source": [
    "if user_timeframe == \"today 5-y\":\n",
    "    numyears = 5\n",
    "elif user_timeframe == \"today 4-y\":\n",
    "        numyears = 4\n",
    "elif user_timeframe == \"today 3-y\":\n",
    "        numyears = 3\n",
    "elif user_timeframe == \"today 2-y\":\n",
    "        numyears = 2\n",
    "else:\n",
    "        numyears = 1"
   ]
  },
  {
   "cell_type": "markdown",
   "metadata": {},
   "source": [
    "API for Google Trends requires a specific format for the timeframe, specifically \"YYYY-MM-DD YYYY-MM-DD\", where the first date is the starting date and the second one the date of today.\n",
    "Therefore, the input received by the user is re-formatted in this way.\n",
    "\n",
    "Please note that this step resulted to be quite tricky as it was not clear at the beginning neither teh format required for the input nor how to re-format the date in the desired form."
   ]
  },
  {
   "cell_type": "code",
   "execution_count": 21,
   "metadata": {},
   "outputs": [
    {
     "name": "stdout",
     "output_type": "stream",
     "text": [
      "2017-10-30 2019-10-21\n"
     ]
    }
   ],
   "source": [
    "numdays = 7\n",
    "numweeks = 52\n",
    "total_time_range = numdays * numweeks * numyears\n",
    "\n",
    "end_date= date.today()\n",
    "today_date = date.today()\n",
    "end_date = today_date\n",
    "begin_date = end_date - datetime.timedelta(days = total_time_range-7)\n",
    "\n",
    "user_timeframe = begin_date.strftime('%Y-%m-%d')+' '+end_date.strftime('%Y-%m-%d')\n",
    "print(user_timeframe)"
   ]
  },
  {
   "cell_type": "markdown",
   "metadata": {},
   "source": [
    "### Geographies"
   ]
  },
  {
   "cell_type": "markdown",
   "metadata": {},
   "source": [
    "The third and last degree of flexibility available in the API is related to the specific country of focus.\n",
    "As in the previous cases, an eventual input from the user is asked for a better customization of the search.\n",
    "\n",
    "It has to be noted that, on the contrary of the categories, it has not been possible to find a coding system for the different countries available. Yet, the official rule provided by the creator of the API is to indicate the country with the first two letters in capital (e.g. Italy, IT, United States, US)."
   ]
  },
  {
   "cell_type": "code",
   "execution_count": 56,
   "metadata": {},
   "outputs": [
    {
     "name": "stdout",
     "output_type": "stream",
     "text": [
      "Would you like to focus the research on a specific country? (default is World) (Yes/No): no\n"
     ]
    }
   ],
   "source": [
    "ans = input ('Would you like to focus the research on a specific country? (default is World) (Yes/No): ')"
   ]
  },
  {
   "cell_type": "code",
   "execution_count": 57,
   "metadata": {},
   "outputs": [],
   "source": [
    "if ans.upper() == \"YES\":\n",
    "    user_geo = input ('Please indicate country of focus (first two letters in capitals, e.g. United States is US): ')"
   ]
  },
  {
   "cell_type": "code",
   "execution_count": 58,
   "metadata": {},
   "outputs": [
    {
     "name": "stdout",
     "output_type": "stream",
     "text": [
      "\n"
     ]
    }
   ],
   "source": [
    "print(user_geo)"
   ]
  },
  {
   "cell_type": "markdown",
   "metadata": {},
   "source": [
    "# Google Trends outputs"
   ]
  },
  {
   "cell_type": "markdown",
   "metadata": {},
   "source": [
    "## Connection to Google\n",
    "\n",
    "First, it is necessary to connect to Google. \n",
    "This actions is required to be ran just once, as the following analyses use the same session. "
   ]
  },
  {
   "cell_type": "code",
   "execution_count": 59,
   "metadata": {
    "scrolled": true
   },
   "outputs": [],
   "source": [
    "pytrend = TrendReq()"
   ]
  },
  {
   "cell_type": "markdown",
   "metadata": {},
   "source": [
    "Secondly, it has to be created the payload, containing the settings for the analyses and capture the API tokens. \n",
    "These settings will be used for the analyses of interest over time, by region and the related queries.\n",
    "\n",
    "Whilst default settings are typically used, the current Improved MVP allows to have a better customization for what regards categories, timeframe and country of focus."
   ]
  },
  {
   "cell_type": "code",
   "execution_count": 60,
   "metadata": {},
   "outputs": [],
   "source": [
    "pytrend.build_payload(kw_list=user_kw_list, cat=user_cat, timeframe=user_timeframe, geo=user_geo)"
   ]
  },
  {
   "cell_type": "markdown",
   "metadata": {},
   "source": [
    "## Interest over time"
   ]
  },
  {
   "cell_type": "markdown",
   "metadata": {},
   "source": [
    "The first output is the evolution of the interest over time of the selceted keywords. This output is provided on weekly basis for the entire timeframe of analysis.\n",
    "\n",
    "As a general note, this and all the following outputs are provided on relative basis:\n",
    "- Between the different keywords\n",
    "- Within each keywords\n",
    "- The maximum level of interest is equal to 100, whilst the minimum to 0\n",
    "\n",
    "The code below provided the output and an example of the first lines."
   ]
  },
  {
   "cell_type": "code",
   "execution_count": 27,
   "metadata": {},
   "outputs": [
    {
     "name": "stdout",
     "output_type": "stream",
     "text": [
      "            Cartier  Dior  Chanel isPartial\n",
      "date                                       \n",
      "2017-11-05       32    11      66     False\n",
      "2017-11-12       31    11      67     False\n",
      "2017-11-19       37    13      76     False\n",
      "2017-11-26       35    12      73     False\n",
      "2017-12-03       35    12      76     False\n"
     ]
    }
   ],
   "source": [
    "interest_over_time_df = pytrend.interest_over_time()\n",
    "print(interest_over_time_df.head())"
   ]
  },
  {
   "cell_type": "markdown",
   "metadata": {},
   "source": [
    "Rather than having the data stored in a Dataframe, the real value added is the export to a csv file.\n",
    "\n",
    "It has to be noted that this step presented some challenges as we wanted to keep the information about the timestamp of the data, which is an index and not a column. In order to do this, the parameter \"Index\" had to be set to True."
   ]
  },
  {
   "cell_type": "code",
   "execution_count": 28,
   "metadata": {},
   "outputs": [],
   "source": [
    "interest_over_time_df.to_csv(\"interest_over_time.csv\", index=True)"
   ]
  },
  {
   "cell_type": "markdown",
   "metadata": {},
   "source": [
    "Visualization is an important aspect when dealing with many data. \n",
    "For this reason, a focus has been put into creating a chart.\n",
    "\n",
    "Also this step resulted quite challenging as it was a new python function to be explored.\n",
    "The first issue to be faced was related to the definition of the timeline (i.e. x axis) from the start date to today. This timeline was supposed to present a 1-to-1 correspondence with the interest, yet doing calculation with dates required quite effort.\n",
    "Another issue was related to the plot of the interests of the different keywords as they were stored in a DataFrame. After a detailed research, it was understood that the extension .iloc allows to consider specific elements within a Dataframe and used accordingly. \n",
    "An additional complexity was related to the fact that multiple lines were supposed to be plotted on the same graph, all with the same scale.\n",
    "Finally, some formatting was made necessary to make the chart easy to be read. In this case, it was decided to adjust the scale according to the length of the timeframe. "
   ]
  },
  {
   "cell_type": "code",
   "execution_count": 30,
   "metadata": {},
   "outputs": [
    {
     "data": {
      "image/png": "[encoded data removed]",
      "text/plain": [
       "<Figure size 432x288 with 1 Axes>"
      ]
     },
     "metadata": {
      "needs_background": "light"
     },
     "output_type": "display_data"
    }
   ],
   "source": [
    "# x axis values: dates of the last n years (n defined above by the user)\n",
    "numdays = 7\n",
    "numweeks = 52\n",
    "\n",
    "datelist = [begin_date]\n",
    "\n",
    "for index in range (0, numweeks*numyears-3):\n",
    "    datelist.append(datelist[index] + datetime.timedelta(days = numdays)) \n",
    "x_axis = datelist\n",
    "\n",
    "# Plot into a chart \n",
    "plt.gca().xaxis.set_major_formatter(mdates.DateFormatter('%m/%Y'))\n",
    "plt.gca().xaxis.set_major_locator(mdates.DayLocator(0,14*numyears))\n",
    "plt.gcf().autofmt_xdate()\n",
    "\n",
    "plt.plot (x_axis, interest_over_time_df.iloc[:,0], label = kw_1)\n",
    "if q1.upper() == \"YES\":\n",
    "    plt.plot (x_axis, interest_over_time_df.iloc[:,1], label = kw_2)\n",
    "if q2.upper() == \"YES\":\n",
    "    plt.plot (x_axis, interest_over_time_df.iloc[:,2], label = kw_3)\n",
    "\n",
    "plt.xticks(rotation=45)\n",
    "\n",
    "plt.xlabel('Time')\n",
    "plt.ylabel('Level of Interest')\n",
    "plt.title('Interest over time')\n",
    "\n",
    "plt.legend()\n",
    "plt.show()"
   ]
  },
  {
   "cell_type": "markdown",
   "metadata": {},
   "source": [
    "### Average searches"
   ]
  },
  {
   "cell_type": "markdown",
   "metadata": {},
   "source": [
    "An relevant data to compare is the average value of the interest of all the keywords within the timeframe of analysis. "
   ]
  },
  {
   "cell_type": "code",
   "execution_count": 31,
   "metadata": {},
   "outputs": [
    {
     "name": "stdout",
     "output_type": "stream",
     "text": [
      "The average interest in the last  2 years is  Cartier    35.137255\n",
      "Dior       15.588235\n",
      "Chanel     70.647059\n",
      "dtype: float64\n"
     ]
    }
   ],
   "source": [
    "avg_kw = interest_over_time_df.mean(0)\n",
    "print(f\"The average interest in the last \",numyears,\"years is \", avg_kw)"
   ]
  },
  {
   "cell_type": "markdown",
   "metadata": {},
   "source": [
    "## Interest by Region\n",
    "\n",
    "The second output provided in the interest by region in the timeframe considered. \n",
    "Also in this case, the value provided is relative both within the countries and between the selected keywords. \n",
    "For the clarity of analysis, the regions with low interested (i.e. about 0) have been removed from the file.\n",
    "\n",
    "The level of Region depends on whether a variable for country has been inserted by the user. In fact, if the user has not refine the search by country, the output by region will refer to the list of worldwide countries. \n",
    "If a country has been selected, the output by region will show the regions or states for that country."
   ]
  },
  {
   "cell_type": "code",
   "execution_count": 61,
   "metadata": {
    "scrolled": true
   },
   "outputs": [
    {
     "name": "stdout",
     "output_type": "stream",
     "text": [
      "                Cartier  Dior  Chanel\n",
      "geoName                              \n",
      "Afghanistan           0     0       0\n",
      "Albania               0     0       0\n",
      "Algeria              16    35      49\n",
      "American Samoa        0     0       0\n",
      "Andorra               0     0       0\n"
     ]
    }
   ],
   "source": [
    "interest_by_region_df = pytrend.interest_by_region(inc_low_vol=False)\n",
    "print(interest_by_region_df.head())"
   ]
  },
  {
   "cell_type": "markdown",
   "metadata": {},
   "source": [
    "The output obtained is exported to a csv file:"
   ]
  },
  {
   "cell_type": "code",
   "execution_count": 62,
   "metadata": {
    "scrolled": true
   },
   "outputs": [],
   "source": [
    "interest_by_region_df.to_csv(\"interest_by_region.csv\", index=True)"
   ]
  },
  {
   "cell_type": "markdown",
   "metadata": {},
   "source": [
    "A good way to look at this data is, for each of the keyword, to rank the countries in descendent order, in order to understand with are the countries registering the most and the least interest on the keyword. \n",
    "\n",
    "\n",
    "As additional note, in case US is selected, the code provided the interest in the different states, in case of Italy, the details of the region."
   ]
  },
  {
   "cell_type": "code",
   "execution_count": 63,
   "metadata": {},
   "outputs": [
    {
     "name": "stdout",
     "output_type": "stream",
     "text": [
      "RANKED COUNTRIES FOR KEYWORD \" Cartier \"\n",
      "\n",
      "geoName\n",
      "Canada                               45\n",
      "Romania                              36\n",
      "Kuwait                               29\n",
      "United Arab Emirates                 29\n",
      "Qatar                                28\n",
      "Saudi Arabia                         27\n",
      "Morocco                              26\n",
      "Switzerland                          24\n",
      "Belgium                              22\n",
      "France                               21\n",
      "Lebanon                              21\n",
      "Colombia                             20\n",
      "Mexico                               19\n",
      "Philippines                          18\n",
      "Singapore                            17\n",
      "United States                        17\n",
      "Argentina                            16\n",
      "Netherlands                          16\n",
      "Azerbaijan                           16\n",
      "Italy                                16\n",
      "Algeria                              16\n",
      "Tunisia                              15\n",
      "Hong Kong                            15\n",
      "Egypt                                15\n",
      "Kazakhstan                           14\n",
      "Israel                               14\n",
      "South Korea                          14\n",
      "United Kingdom                       14\n",
      "Spain                                13\n",
      "Russia                               13\n",
      "                                     ..\n",
      "Martinique                            0\n",
      "Mauritania                            0\n",
      "Jamaica                               0\n",
      "Iraq                                  0\n",
      "Ethiopia                              0\n",
      "Iceland                               0\n",
      "Falkland Islands (Islas Malvinas)     0\n",
      "Faroe Islands                         0\n",
      "Fiji                                  0\n",
      "French Guiana                         0\n",
      "French Polynesia                      0\n",
      "French Southern Territories           0\n",
      "Gabon                                 0\n",
      "Gambia                                0\n",
      "Georgia                               0\n",
      "Ghana                                 0\n",
      "Gibraltar                             0\n",
      "Greenland                             0\n",
      "Grenada                               0\n",
      "Guadeloupe                            0\n",
      "Guam                                  0\n",
      "Guatemala                             0\n",
      "Guernsey                              0\n",
      "Guinea                                0\n",
      "Guinea-Bissau                         0\n",
      "Guyana                                0\n",
      "Haiti                                 0\n",
      "Heard & McDonald Islands              0\n",
      "Honduras                              0\n",
      "Åland Islands                         0\n",
      "Name: Cartier, Length: 250, dtype: int32\n"
     ]
    }
   ],
   "source": [
    "print('RANKED COUNTRIES FOR KEYWORD \"',kw_1,'\"' )\n",
    "print(\"\")\n",
    "print(interest_by_region_df.sort_values(by=kw_1, ascending=False)[kw_1])"
   ]
  },
  {
   "cell_type": "code",
   "execution_count": 64,
   "metadata": {},
   "outputs": [
    {
     "name": "stdout",
     "output_type": "stream",
     "text": [
      "RANKED COUNTRIES FOR KEYWORD \" Dior \"\n",
      "\n",
      "geoName\n",
      "Japan                                42\n",
      "Kazakhstan                           42\n",
      "Taiwan                               40\n",
      "Russia                               40\n",
      "Czechia                              40\n",
      "Ukraine                              40\n",
      "France                               37\n",
      "Tunisia                              37\n",
      "Greece                               37\n",
      "Bulgaria                             37\n",
      "Poland                               36\n",
      "Israel                               35\n",
      "Algeria                              35\n",
      "Nigeria                              34\n",
      "Azerbaijan                           34\n",
      "Vietnam                              34\n",
      "Finland                              33\n",
      "Lebanon                              33\n",
      "Turkey                               33\n",
      "Saudi Arabia                         33\n",
      "Qatar                                33\n",
      "Morocco                              33\n",
      "Egypt                                32\n",
      "Norway                               31\n",
      "Serbia                               31\n",
      "Italy                                31\n",
      "South Korea                          31\n",
      "United Arab Emirates                 30\n",
      "Germany                              30\n",
      "Kuwait                               30\n",
      "                                     ..\n",
      "Martinique                            0\n",
      "Mauritania                            0\n",
      "Jamaica                               0\n",
      "Iraq                                  0\n",
      "Ethiopia                              0\n",
      "Iceland                               0\n",
      "Falkland Islands (Islas Malvinas)     0\n",
      "Faroe Islands                         0\n",
      "Fiji                                  0\n",
      "French Guiana                         0\n",
      "French Polynesia                      0\n",
      "French Southern Territories           0\n",
      "Gabon                                 0\n",
      "Gambia                                0\n",
      "Georgia                               0\n",
      "Ghana                                 0\n",
      "Gibraltar                             0\n",
      "Greenland                             0\n",
      "Grenada                               0\n",
      "Guadeloupe                            0\n",
      "Guam                                  0\n",
      "Guatemala                             0\n",
      "Guernsey                              0\n",
      "Guinea                                0\n",
      "Guinea-Bissau                         0\n",
      "Guyana                                0\n",
      "Haiti                                 0\n",
      "Heard & McDonald Islands              0\n",
      "Honduras                              0\n",
      "Åland Islands                         0\n",
      "Name: Dior, Length: 250, dtype: int32\n"
     ]
    }
   ],
   "source": [
    "if q1.upper() == \"YES\":\n",
    "    print('RANKED COUNTRIES FOR KEYWORD \"',kw_2,'\"' )\n",
    "    print(\"\")\n",
    "    print(interest_by_region_df.sort_values(by=kw_2, ascending=False)[kw_2])"
   ]
  },
  {
   "cell_type": "code",
   "execution_count": 65,
   "metadata": {},
   "outputs": [
    {
     "name": "stdout",
     "output_type": "stream",
     "text": [
      "RANKED COUNTRIES FOR KEYWORD \" Chanel \"\n",
      "\n",
      "geoName\n",
      "Indonesia                            74\n",
      "Venezuela                            73\n",
      "Pakistan                             72\n",
      "Peru                                 72\n",
      "Brazil                               70\n",
      "Ireland                              67\n",
      "India                                67\n",
      "Hungary                              66\n",
      "Denmark                              66\n",
      "United States                        65\n",
      "Chile                                65\n",
      "South Africa                         65\n",
      "Colombia                             64\n",
      "Thailand                             64\n",
      "Australia                            64\n",
      "Croatia                              62\n",
      "Portugal                             62\n",
      "Philippines                          62\n",
      "New Zealand                          62\n",
      "Mexico                               61\n",
      "Sweden                               61\n",
      "Singapore                            61\n",
      "Norway                               61\n",
      "Poland                               60\n",
      "Malaysia                             60\n",
      "Iran                                 60\n",
      "Hong Kong                            60\n",
      "Austria                              60\n",
      "Vietnam                              60\n",
      "Serbia                               59\n",
      "                                     ..\n",
      "Martinique                            0\n",
      "Mauritania                            0\n",
      "Jamaica                               0\n",
      "Iraq                                  0\n",
      "Ethiopia                              0\n",
      "Iceland                               0\n",
      "Falkland Islands (Islas Malvinas)     0\n",
      "Faroe Islands                         0\n",
      "Fiji                                  0\n",
      "French Guiana                         0\n",
      "French Polynesia                      0\n",
      "French Southern Territories           0\n",
      "Gabon                                 0\n",
      "Gambia                                0\n",
      "Georgia                               0\n",
      "Ghana                                 0\n",
      "Gibraltar                             0\n",
      "Greenland                             0\n",
      "Grenada                               0\n",
      "Guadeloupe                            0\n",
      "Guam                                  0\n",
      "Guatemala                             0\n",
      "Guernsey                              0\n",
      "Guinea                                0\n",
      "Guinea-Bissau                         0\n",
      "Guyana                                0\n",
      "Haiti                                 0\n",
      "Heard & McDonald Islands              0\n",
      "Honduras                              0\n",
      "Åland Islands                         0\n",
      "Name: Chanel, Length: 250, dtype: int32\n"
     ]
    }
   ],
   "source": [
    "if q2.upper() == \"YES\":\n",
    "    print('RANKED COUNTRIES FOR KEYWORD \"',kw_3,'\"' )\n",
    "    print(\"\")\n",
    "    print(interest_by_region_df.sort_values(by=kw_3, ascending=False)[kw_3])"
   ]
  },
  {
   "cell_type": "markdown",
   "metadata": {},
   "source": [
    "A visual output of top countries is provided below. In this case, an histogram results to be the most appropriate chart.\n",
    "\n",
    "However, this visualization is most suited for cases where the user has selected a specific country so that the graph will show the ranked regions/states of that country. "
   ]
  },
  {
   "cell_type": "code",
   "execution_count": 66,
   "metadata": {},
   "outputs": [
    {
     "name": "stdout",
     "output_type": "stream",
     "text": [
      "Interest by region\n",
      "\n"
     ]
    },
    {
     "data": {
      "image/png": "[encoded data removed]",
      "text/plain": [
       "<Figure size 432x288 with 1 Axes>"
      ]
     },
     "metadata": {
      "needs_background": "light"
     },
     "output_type": "display_data"
    },
    {
     "data": {
      "image/png": "[encoded data removed]",
      "text/plain": [
       "<Figure size 432x288 with 1 Axes>"
      ]
     },
     "metadata": {
      "needs_background": "light"
     },
     "output_type": "display_data"
    },
    {
     "data": {
      "image/png": "[encoded data removed]",
      "text/plain": [
       "<Figure size 432x288 with 1 Axes>"
      ]
     },
     "metadata": {
      "needs_background": "light"
     },
     "output_type": "display_data"
    }
   ],
   "source": [
    "print(\"Interest by region\")\n",
    "print(\"\")\n",
    "interest_by_region_df.sort_values(kw_1, ascending=False)[[kw_1]].plot.bar(stacked=True)\n",
    "\n",
    "if q1.upper() == \"YES\":\n",
    "    interest_by_region_df.sort_values(kw_2, ascending=False)[[kw_2]].plot.bar(stacked=True)\n",
    "if q2.upper() == \"YES\":\n",
    "    interest_by_region_df.sort_values(kw_3, ascending=False)[[kw_3]].plot.bar(stacked=True)"
   ]
  },
  {
   "cell_type": "markdown",
   "metadata": {},
   "source": [
    "## Related Queries\n",
    "\n",
    "The third output provided by the code is about the related queries. In other words, the other words commonyl related to the keywords of analysis. "
   ]
  },
  {
   "cell_type": "code",
   "execution_count": 39,
   "metadata": {},
   "outputs": [
    {
     "name": "stdout",
     "output_type": "stream",
     "text": [
      "{'Cartier': {'top':                        query  value\n",
      "0              cartier watch    100\n",
      "1                      watch     99\n",
      "2            cartier glasses     64\n",
      "3            cartier watches     39\n",
      "4               cartier tank     34\n",
      "5               cartier ring     26\n",
      "6            cartier diamond     21\n",
      "7             santos cartier     21\n",
      "8                    tiffany     20\n",
      "9              cartier rings     20\n",
      "10                     rolex     20\n",
      "11        cartier sunglasses     19\n",
      "12          cartier bracelet     18\n",
      "13               cartier men     17\n",
      "14        cartier tank watch     17\n",
      "15        cartier mens watch     11\n",
      "16           cartier jewelry     10\n",
      "17            cartier frames      9\n",
      "18               rolex watch      9\n",
      "19        gold cartier watch      9\n",
      "20  cartier engagement rings      9\n",
      "21          cartier necklace      9\n",
      "22          cartier earrings      8\n",
      "23              cartier band      8\n",
      "24           cartier replica      8, 'rising':                                   query  value\n",
      "0                         cartier bardi  36900\n",
      "1                      cartier dopebwoy  16800\n",
      "2                         cartier bazzi  15950\n",
      "3                  cartier bardi lyrics  15950\n",
      "4                       cartier bartier  12300\n",
      "5                  cartier bazzi lyrics  11100\n",
      "6                   cartier santos 2018  10050\n",
      "7                      clash de cartier   8700\n",
      "8               cartier dopebwoy lyrics   6300\n",
      "9    cartier french tank watch two tone   4050\n",
      "10  cartier glasses they sit on my face   3500\n",
      "11           cartier gucci scarf lyrics   2850\n",
      "12            cartier french tank watch    900\n",
      "13                      cardi b cartier    650\n",
      "14                        cartier clash    600\n",
      "15                    bust down cartier    450\n",
      "16                  cartier gucci scarf    400\n",
      "17                   cartier halo tiara    350\n",
      "18                       cartier vision    300\n",
      "19              cartier ring size chart    200\n",
      "20              cartier rimless glasses    200\n",
      "21              diamond cartier glasses    200\n",
      "22                        cartier tiara    180\n",
      "23                cartier store near me    180\n",
      "24                     tiffanys jewelry    180}, 'Dior': {'top':               query  value\n",
      "0    christian dior    100\n",
      "1   dior sunglasses     77\n",
      "2     dior sneakers     61\n",
      "3        dior shoes     51\n",
      "4          dior bag     49\n",
      "5            chanel     39\n",
      "6             gucci     37\n",
      "7        dior homme     27\n",
      "8          dior men     25\n",
      "9      vintage dior     24\n",
      "10    louis vuitton     23\n",
      "11     dior glasses     20\n",
      "12    dior handbags     20\n",
      "13        dior bags     18\n",
      "14    dior bracelet     16\n",
      "15       dior shirt     14\n",
      "16    dior earrings     14\n",
      "17   dior nordstrom     13\n",
      "18        lady dior     13\n",
      "19            prada     13\n",
      "20        dior tote     13\n",
      "21            fendi     13\n",
      "22        dior belt     12\n",
      "23       dior boots     12\n",
      "24       chanel bag     11, 'rising':                                  query  value\n",
      "0                       dior book tote  53950\n",
      "1                  dior woven bracelet  40950\n",
      "2                          dior x kaws  34250\n",
      "3                             dior b23  31650\n",
      "4                          gianna dior  30250\n",
      "5                    dior b22 sneakers  28700\n",
      "6                             joy dior  28350\n",
      "7                            iann dior  24650\n",
      "8         christian dior mens sneakers  22800\n",
      "9                          dior chucks  20450\n",
      "10                    dior b22 sneaker  19800\n",
      "11                         amiri jeans  18700\n",
      "12           dior friendship bracelets  14500\n",
      "13  christian dior friendship bracelet  14450\n",
      "14                     dior kaws shirt  14350\n",
      "15               dior oblique sneakers  13800\n",
      "16             christian dior headband  13650\n",
      "17                   dior chuck taylor  11600\n",
      "18                  dior messenger bag  11200\n",
      "19                          dior clogs   9400\n",
      "20             christian dior converse   9200\n",
      "21               dior padlock necklace   8850\n",
      "22                christian dior visor   8100\n",
      "23                       dior bifocals   7850\n",
      "24       christian dior woven bracelet   7350}, 'Chanel': {'top':                 query  value\n",
      "0          chanel bag    100\n",
      "1         chanel bags     57\n",
      "2               gucci     38\n",
      "3        chanel shoes     30\n",
      "4     chanel sneakers     23\n",
      "5       louis vuitton     22\n",
      "6        chanel purse     22\n",
      "7     chanel handbags     20\n",
      "8     chanel earrings     18\n",
      "9       chanel wallet     17\n",
      "10    chanel flap bag     14\n",
      "11     chanel boy bag     13\n",
      "12     chanel classic     13\n",
      "13  chanel sunglasses     13\n",
      "14        chanel tote     12\n",
      "15    chanel necklace     11\n",
      "16     vintage chanel     11\n",
      "17        chanel belt     11\n",
      "18    chanel designer     10\n",
      "19        coco chanel     10\n",
      "20        chanel mini     10\n",
      "21   nordstrom chanel     10\n",
      "22     chanel santini      9\n",
      "23         chanel men      9\n",
      "24          gucci bag      9, 'rising':                      query  value\n",
      "0         chanel bags 2019  23100\n",
      "1     chanel sneakers 2018  13200\n",
      "2      chanel sandals 2019  10150\n",
      "3         chanel tote 2018   7100\n",
      "4   chanel sunglasses 2018   6750\n",
      "5   chanel milk carton bag   5200\n",
      "6         chanel bags 2018   3100\n",
      "7        chanel human race   2800\n",
      "8     chanel handbags 2018   1650\n",
      "9       biggest chanel bag   1350\n",
      "10   chanel pharrell shoes    850\n",
      "11         chanel pharrell    750\n",
      "12        gucci fanny pack    250\n",
      "13   chanel sneakers women    200\n",
      "14         chanel belt bag    190\n",
      "15          chanel pvc bag    180\n",
      "16       chanel fanny pack    160\n",
      "17      chanel belt womens    150\n",
      "18     men chanel sneakers    150\n",
      "19       chanel bucket bag    140\n",
      "20    chanel boyfriend bag    140\n",
      "21          audrey hepburn    130\n",
      "22             chanel belt    120\n",
      "23       chanel suspenders    100\n",
      "24        men chanel shoes    100}}\n"
     ]
    }
   ],
   "source": [
    "related_queries_dict = pytrend.related_queries()\n",
    "print(related_queries_dict)"
   ]
  },
  {
   "cell_type": "markdown",
   "metadata": {},
   "source": [
    "The data exported to csv, in this case, are very difficult to read, as shown in the output below."
   ]
  },
  {
   "cell_type": "code",
   "execution_count": 40,
   "metadata": {},
   "outputs": [],
   "source": [
    "(pd.DataFrame.from_dict(data=related_queries_dict, orient='index')\n",
    "   .to_csv('related_queries_dict.csv', header=True))"
   ]
  },
  {
   "cell_type": "markdown",
   "metadata": {},
   "source": [
    "For this reason, it has been decided to divide the dictionary into different outputs, one per keywords, that are much easier to read and intepret.\n",
    "For each keywords, details of the Top and rising queries are provided separately. "
   ]
  },
  {
   "cell_type": "code",
   "execution_count": 41,
   "metadata": {},
   "outputs": [
    {
     "name": "stdout",
     "output_type": "stream",
     "text": [
      "keyword = \"  Cartier  \" Top queries\n",
      "\n",
      "                       query  value\n",
      "0              cartier watch    100\n",
      "1                      watch     99\n",
      "2            cartier glasses     64\n",
      "3            cartier watches     39\n",
      "4               cartier tank     34\n",
      "5               cartier ring     26\n",
      "6            cartier diamond     21\n",
      "7             santos cartier     21\n",
      "8                    tiffany     20\n",
      "9              cartier rings     20\n",
      "10                     rolex     20\n",
      "11        cartier sunglasses     19\n",
      "12          cartier bracelet     18\n",
      "13               cartier men     17\n",
      "14        cartier tank watch     17\n",
      "15        cartier mens watch     11\n",
      "16           cartier jewelry     10\n",
      "17            cartier frames      9\n",
      "18               rolex watch      9\n",
      "19        gold cartier watch      9\n",
      "20  cartier engagement rings      9\n",
      "21          cartier necklace      9\n",
      "22          cartier earrings      8\n",
      "23              cartier band      8\n",
      "24           cartier replica      8\n"
     ]
    }
   ],
   "source": [
    "print('keyword = \" ', kw_1,' \" Top queries')\n",
    "print(\"\")\n",
    "print(related_queries_dict[kw_1][\"top\"])"
   ]
  },
  {
   "cell_type": "code",
   "execution_count": 42,
   "metadata": {},
   "outputs": [
    {
     "name": "stdout",
     "output_type": "stream",
     "text": [
      "keyword = \"  Cartier  \" Rising queries\n",
      "\n",
      "                                  query  value\n",
      "0                         cartier bardi  36900\n",
      "1                      cartier dopebwoy  16800\n",
      "2                         cartier bazzi  15950\n",
      "3                  cartier bardi lyrics  15950\n",
      "4                       cartier bartier  12300\n",
      "5                  cartier bazzi lyrics  11100\n",
      "6                   cartier santos 2018  10050\n",
      "7                      clash de cartier   8700\n",
      "8               cartier dopebwoy lyrics   6300\n",
      "9    cartier french tank watch two tone   4050\n",
      "10  cartier glasses they sit on my face   3500\n",
      "11           cartier gucci scarf lyrics   2850\n",
      "12            cartier french tank watch    900\n",
      "13                      cardi b cartier    650\n",
      "14                        cartier clash    600\n",
      "15                    bust down cartier    450\n",
      "16                  cartier gucci scarf    400\n",
      "17                   cartier halo tiara    350\n",
      "18                       cartier vision    300\n",
      "19              cartier ring size chart    200\n",
      "20              cartier rimless glasses    200\n",
      "21              diamond cartier glasses    200\n",
      "22                        cartier tiara    180\n",
      "23                cartier store near me    180\n",
      "24                     tiffanys jewelry    180\n"
     ]
    }
   ],
   "source": [
    "print('keyword = \" ', kw_1,' \" Rising queries')\n",
    "print(\"\")\n",
    "print(related_queries_dict[kw_1][\"rising\"])"
   ]
  },
  {
   "cell_type": "code",
   "execution_count": 43,
   "metadata": {},
   "outputs": [
    {
     "name": "stdout",
     "output_type": "stream",
     "text": [
      "keyword = \"  Dior  \" Top queries\n",
      "\n",
      "              query  value\n",
      "0    christian dior    100\n",
      "1   dior sunglasses     77\n",
      "2     dior sneakers     61\n",
      "3        dior shoes     51\n",
      "4          dior bag     49\n",
      "5            chanel     39\n",
      "6             gucci     37\n",
      "7        dior homme     27\n",
      "8          dior men     25\n",
      "9      vintage dior     24\n",
      "10    louis vuitton     23\n",
      "11     dior glasses     20\n",
      "12    dior handbags     20\n",
      "13        dior bags     18\n",
      "14    dior bracelet     16\n",
      "15       dior shirt     14\n",
      "16    dior earrings     14\n",
      "17   dior nordstrom     13\n",
      "18        lady dior     13\n",
      "19            prada     13\n",
      "20        dior tote     13\n",
      "21            fendi     13\n",
      "22        dior belt     12\n",
      "23       dior boots     12\n",
      "24       chanel bag     11\n"
     ]
    }
   ],
   "source": [
    "if q1.upper() == \"YES\":\n",
    "    print('keyword = \" ', kw_2,' \" Top queries')\n",
    "    print(\"\")\n",
    "    print(related_queries_dict[kw_2][\"top\"])"
   ]
  },
  {
   "cell_type": "code",
   "execution_count": 44,
   "metadata": {},
   "outputs": [
    {
     "name": "stdout",
     "output_type": "stream",
     "text": [
      "keyword = \"  Dior  \" Rising queries\n",
      "\n",
      "                                 query  value\n",
      "0                       dior book tote  53950\n",
      "1                  dior woven bracelet  40950\n",
      "2                          dior x kaws  34250\n",
      "3                             dior b23  31650\n",
      "4                          gianna dior  30250\n",
      "5                    dior b22 sneakers  28700\n",
      "6                             joy dior  28350\n",
      "7                            iann dior  24650\n",
      "8         christian dior mens sneakers  22800\n",
      "9                          dior chucks  20450\n",
      "10                    dior b22 sneaker  19800\n",
      "11                         amiri jeans  18700\n",
      "12           dior friendship bracelets  14500\n",
      "13  christian dior friendship bracelet  14450\n",
      "14                     dior kaws shirt  14350\n",
      "15               dior oblique sneakers  13800\n",
      "16             christian dior headband  13650\n",
      "17                   dior chuck taylor  11600\n",
      "18                  dior messenger bag  11200\n",
      "19                          dior clogs   9400\n",
      "20             christian dior converse   9200\n",
      "21               dior padlock necklace   8850\n",
      "22                christian dior visor   8100\n",
      "23                       dior bifocals   7850\n",
      "24       christian dior woven bracelet   7350\n"
     ]
    }
   ],
   "source": [
    "if q1.upper() == \"YES\":\n",
    "    print('keyword = \" ', kw_2,' \" Rising queries')\n",
    "    print(\"\")\n",
    "    print(related_queries_dict[kw_2][\"rising\"])"
   ]
  },
  {
   "cell_type": "code",
   "execution_count": 45,
   "metadata": {},
   "outputs": [
    {
     "name": "stdout",
     "output_type": "stream",
     "text": [
      "keyword = \"  Chanel  \" Top queries\n",
      "\n",
      "              query  value\n",
      "0    christian dior    100\n",
      "1   dior sunglasses     77\n",
      "2     dior sneakers     61\n",
      "3        dior shoes     51\n",
      "4          dior bag     49\n",
      "5            chanel     39\n",
      "6             gucci     37\n",
      "7        dior homme     27\n",
      "8          dior men     25\n",
      "9      vintage dior     24\n",
      "10    louis vuitton     23\n",
      "11     dior glasses     20\n",
      "12    dior handbags     20\n",
      "13        dior bags     18\n",
      "14    dior bracelet     16\n",
      "15       dior shirt     14\n",
      "16    dior earrings     14\n",
      "17   dior nordstrom     13\n",
      "18        lady dior     13\n",
      "19            prada     13\n",
      "20        dior tote     13\n",
      "21            fendi     13\n",
      "22        dior belt     12\n",
      "23       dior boots     12\n",
      "24       chanel bag     11\n"
     ]
    }
   ],
   "source": [
    "if q2.upper() == \"YES\":\n",
    "    print('keyword = \" ', kw_3,' \" Top queries')\n",
    "    print(\"\")\n",
    "    print(related_queries_dict[kw_2][\"top\"])"
   ]
  },
  {
   "cell_type": "code",
   "execution_count": 46,
   "metadata": {},
   "outputs": [
    {
     "name": "stdout",
     "output_type": "stream",
     "text": [
      "keyword = \"  Chanel  \" Rising queries\n",
      "\n",
      "                                 query  value\n",
      "0                       dior book tote  53950\n",
      "1                  dior woven bracelet  40950\n",
      "2                          dior x kaws  34250\n",
      "3                             dior b23  31650\n",
      "4                          gianna dior  30250\n",
      "5                    dior b22 sneakers  28700\n",
      "6                             joy dior  28350\n",
      "7                            iann dior  24650\n",
      "8         christian dior mens sneakers  22800\n",
      "9                          dior chucks  20450\n",
      "10                    dior b22 sneaker  19800\n",
      "11                         amiri jeans  18700\n",
      "12           dior friendship bracelets  14500\n",
      "13  christian dior friendship bracelet  14450\n",
      "14                     dior kaws shirt  14350\n",
      "15               dior oblique sneakers  13800\n",
      "16             christian dior headband  13650\n",
      "17                   dior chuck taylor  11600\n",
      "18                  dior messenger bag  11200\n",
      "19                          dior clogs   9400\n",
      "20             christian dior converse   9200\n",
      "21               dior padlock necklace   8850\n",
      "22                christian dior visor   8100\n",
      "23                       dior bifocals   7850\n",
      "24       christian dior woven bracelet   7350\n"
     ]
    }
   ],
   "source": [
    "if q2.upper() == \"YES\":\n",
    "    print('keyword = \" ', kw_3,' \" Rising queries')\n",
    "    print(\"\")\n",
    "    print(related_queries_dict[kw_2][\"rising\"])"
   ]
  },
  {
   "cell_type": "markdown",
   "metadata": {},
   "source": [
    "# Keyword suggestions\n",
    "\n",
    "In this section, it is possible for the user, given the output of the previous analysis, to look for suggestions of new kewwords or string related to a specific keyword or string. \n",
    "\n",
    "This output can provide significant insights as it can reveal some words associations that companies might not be aware of. "
   ]
  },
  {
   "cell_type": "code",
   "execution_count": 53,
   "metadata": {},
   "outputs": [
    {
     "name": "stdout",
     "output_type": "stream",
     "text": [
      "Please write your keyword: cartier watch\n"
     ]
    }
   ],
   "source": [
    "keyword = input(\"Please write your keyword: \")"
   ]
  },
  {
   "cell_type": "code",
   "execution_count": 54,
   "metadata": {},
   "outputs": [
    {
     "name": "stdout",
     "output_type": "stream",
     "text": [
      "SUGGESTED RELATED KEYWORDS RELATED TO \" cartier watch \"\n",
      "\n",
      "mid\t/m/04799f2\n",
      "title\tCartier Tank\n",
      "type\tLine of products\n",
      "\n",
      "mid\t/g/11g02vjngy\n",
      "title\tSell Cartier Watch\n",
      "type\tWatch store in London, England\n",
      "\n",
      "mid\t/g/11dzswn26w\n",
      "title\tThe Watch Book\n",
      "type\tTopic\n",
      "\n",
      "mid\t/m/0gjkl\n",
      "title\tWatch\n",
      "type\tTopic\n",
      "\n"
     ]
    }
   ],
   "source": [
    "suggestions_dict = pytrend.suggestions(keyword)\n",
    "\n",
    "print('SUGGESTED RELATED KEYWORDS RELATED TO \"', keyword, '\"')\n",
    "print(\"\")\n",
    "for number in range(0,len(suggestions_dict)):\n",
    "    print(\"\\n\".join(\"{}\\t{}\".format(k, v) for k, v in suggestions_dict[number].items()))\n",
    "    print(\"\")"
   ]
  },
  {
   "cell_type": "markdown",
   "metadata": {},
   "source": [
    "# Additional output: Google Hot Trends\n",
    "\n",
    "Lastly, is has been included this last section where the user can see what are the most popular searches performed in the last period and the searches of the current day.\n",
    "\n",
    "Although not related with the keywords above, it can be useful to understand what are the key topics researched recently and to run specific marketing campaigns accordingly."
   ]
  },
  {
   "cell_type": "code",
   "execution_count": 49,
   "metadata": {
    "scrolled": true
   },
   "outputs": [
    {
     "name": "stdout",
     "output_type": "stream",
     "text": [
      "                 0\n",
      "0          Packers\n",
      "1  Saints vs Bears\n",
      "2            49ers\n",
      "3           Giants\n",
      "4    Buffalo Bills\n"
     ]
    }
   ],
   "source": [
    "trending_searches_df = pytrend.trending_searches()\n",
    "print(trending_searches_df.head())"
   ]
  },
  {
   "cell_type": "markdown",
   "metadata": {},
   "source": [
    "Export trending searches into a csv file:"
   ]
  },
  {
   "cell_type": "code",
   "execution_count": 50,
   "metadata": {},
   "outputs": [],
   "source": [
    "trending_searches_df.to_csv(\"trending_searches.csv\", index=True)"
   ]
  },
  {
   "cell_type": "code",
   "execution_count": 51,
   "metadata": {},
   "outputs": [
    {
     "name": "stdout",
     "output_type": "stream",
     "text": [
      "0            Packers\n",
      "1    Saints vs Bears\n",
      "2              49ers\n",
      "3      David Johnson\n",
      "4      Detroit Lions\n",
      "Name: query, dtype: object\n"
     ]
    }
   ],
   "source": [
    "today_searches_df = pytrend.today_searches()\n",
    "print(today_searches_df.head())"
   ]
  },
  {
   "cell_type": "markdown",
   "metadata": {},
   "source": [
    "Export today searches into a csv file:"
   ]
  },
  {
   "cell_type": "code",
   "execution_count": 52,
   "metadata": {},
   "outputs": [],
   "source": [
    "today_searches_df.to_csv(\"today_searches.csv\", index=True, header=True)"
   ]
  }
 ],
 "metadata": {
  "celltoolbar": "Raw Cell Format",
  "kernelspec": {
   "display_name": "Python 3",
   "language": "python",
   "name": "python3"
  },
  "language_info": {
   "codemirror_mode": {
    "name": "ipython",
    "version": 3
   },
   "file_extension": ".py",
   "mimetype": "text/x-python",
   "name": "python",
   "nbconvert_exporter": "python",
   "pygments_lexer": "ipython3",
   "version": "3.7.4"
  }
 },
 "nbformat": 4,
 "nbformat_minor": 4
}
