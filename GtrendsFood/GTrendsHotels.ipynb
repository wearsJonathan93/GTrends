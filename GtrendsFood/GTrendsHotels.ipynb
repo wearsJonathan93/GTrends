{
 "cells": [
  {
   "cell_type": "markdown",
   "metadata": {},
   "source": [
    "# Google trends scraper and DataStudio importer code"
   ]
  },
  {
   "cell_type": "code",
   "execution_count": 137,
   "metadata": {},
   "outputs": [],
   "source": [
    "### Creaating functions to write csv files and upade csv files ###\n",
    "\n",
    "import csv \n",
    "\n",
    "## Function takes data from individual header + data variables \n",
    "def writer(header, data, filename, option): \n",
    "        with open (filename, \"w\", newline = \"\") as csvfile:\n",
    "            if option == \"write\":\n",
    "\n",
    "                df = csv.writer(csvfile)\n",
    "                df.writerow(header)\n",
    "                for x in data:\n",
    "                    df.writerow(x)\n",
    "            elif option == \"update\":\n",
    "                writer = csv.DictWriter(csvfile, fieldnames = header)\n",
    "                writer.writeheader()\n",
    "                writer.writerows(data)\n",
    "            else:\n",
    "                print(\"Option is not known\")\n",
    "\n",
    "\n",
    "def updater(filename):\n",
    "    with open(filename, newline= \"\") as file:\n",
    "        readData = [row for row in csv.DictReader(file)]\n",
    "        # print(readData)\n",
    "        readData[0]['Rating'] = '9.4'\n",
    "        # print(readData)\n",
    "\n",
    "    readHeader = readData[0].keys()\n",
    "    writer(readHeader, readData, filename, \"update\")"
   ]
  },
  {
   "cell_type": "code",
   "execution_count": 6,
   "metadata": {},
   "outputs": [],
   "source": [
    "import pandas as pd\n",
    "import pytrends\n",
    "from pytrends.request import TrendReq\n",
    "import pandas as pd\n",
    "import time\n",
    "import datetime\n",
    "from datetime import datetime, date, time\n",
    "from random import randint\n",
    "from time import sleep"
   ]
  },
  {
   "cell_type": "code",
   "execution_count": 238,
   "metadata": {},
   "outputs": [],
   "source": [
    "pytrend =  TrendReq()"
   ]
  },
  {
   "cell_type": "code",
   "execution_count": 239,
   "metadata": {},
   "outputs": [],
   "source": [
    "pytrend.build_payload(kw_list=['hotels'], geo = 'GB', timeframe = 'today 1-m', cat = 67)\n",
    "related_queries_dict = pytrend.related_queries()\n",
    "related_topics_dict = pytrend.related_topics()"
   ]
  },
  {
   "cell_type": "code",
   "execution_count": 240,
   "metadata": {},
   "outputs": [],
   "source": [
    "df1 = related_queries_dict.get('hotels').get('rising')\n",
    "\n",
    "df2 = related_queries_dict.get('hotels').get('top')\n",
    "\n",
    "df3 = related_topics_dict.get('hotels').get('rising')\n",
    "\n",
    "df4 = related_topics_dict.get('hotels').get('top')"
   ]
  },
  {
   "cell_type": "code",
   "execution_count": 241,
   "metadata": {},
   "outputs": [],
   "source": [
    "searches = df1['query'].to_list()"
   ]
  },
  {
   "cell_type": "code",
   "execution_count": 242,
   "metadata": {},
   "outputs": [],
   "source": [
    "import numpy as np\n",
    "groupkeywords = list(zip(*[iter(searches)]*1))\n",
    "groupkeywords = [list(x) for x in groupkeywords]\n",
    "\n"
   ]
  },
  {
   "cell_type": "code",
   "execution_count": 243,
   "metadata": {},
   "outputs": [],
   "source": [
    "dicti = {}\n",
    "\n",
    "i = 1\n",
    "for trending in groupkeywords:\n",
    "    pytrend.build_payload(trending, timeframe = 'today 1-m', geo = 'GB', cat = 67)\n",
    "    dicti[i] = pytrend.interest_over_time()\n",
    "    i+=1"
   ]
  },
  {
   "cell_type": "code",
   "execution_count": 244,
   "metadata": {},
   "outputs": [],
   "source": [
    "result = pd.concat(dicti, axis=1)\n",
    "result.columns = result.columns.droplevel(0)\n",
    "result = result.drop('isPartial', axis = 1)#result.reset_index(level=0, inplace=True)\n"
   ]
  },
  {
   "cell_type": "code",
   "execution_count": 245,
   "metadata": {},
   "outputs": [],
   "source": [
    "result.reset_index(level=0, inplace=True)\n",
    "RisingQueries = pd.melt(result, id_vars='date', value_vars=searches)"
   ]
  },
  {
   "cell_type": "code",
   "execution_count": 250,
   "metadata": {},
   "outputs": [],
   "source": [
    "RisingQueries.to_csv('risingqueries.csv')"
   ]
  },
  {
   "cell_type": "code",
   "execution_count": 247,
   "metadata": {},
   "outputs": [],
   "source": [
    "df1.to_csv('rising_queries.csv')"
   ]
  },
  {
   "cell_type": "code",
   "execution_count": null,
   "metadata": {},
   "outputs": [],
   "source": []
  }
 ],
 "metadata": {
  "kernelspec": {
   "display_name": "Python 3",
   "language": "python",
   "name": "python3"
  },
  "language_info": {
   "codemirror_mode": {
    "name": "ipython",
    "version": 3
   },
   "file_extension": ".py",
   "mimetype": "text/x-python",
   "name": "python",
   "nbconvert_exporter": "python",
   "pygments_lexer": "ipython3",
   "version": "3.7.4"
  }
 },
 "nbformat": 4,
 "nbformat_minor": 4
}
